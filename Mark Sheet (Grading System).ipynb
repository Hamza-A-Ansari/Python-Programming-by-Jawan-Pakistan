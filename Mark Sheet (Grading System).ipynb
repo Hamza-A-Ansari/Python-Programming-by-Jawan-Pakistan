{
 "cells": [
  {
   "cell_type": "code",
   "execution_count": 1,
   "id": "46504e3d",
   "metadata": {},
   "outputs": [
    {
     "name": "stdout",
     "output_type": "stream",
     "text": [
      "Enter Your English Marks: 78\n",
      "Enter Your Islamiat Marks: 74\n",
      "Enter Your Urdu Marks: 71\n",
      "Enter Your Maths Marks: 89\n",
      "Enter Your Physics Marks: 86\n",
      "Enter Your Chemistry Marks: 82\n"
     ]
    },
    {
     "ename": "TypeError",
     "evalue": "'>' not supported between instances of 'str' and 'int'",
     "output_type": "error",
     "traceback": [
      "\u001b[1;31m---------------------------------------------------------------------------\u001b[0m",
      "\u001b[1;31mTypeError\u001b[0m                                 Traceback (most recent call last)",
      "\u001b[1;32m<ipython-input-1-e29281cb7af9>\u001b[0m in \u001b[0;36m<module>\u001b[1;34m\u001b[0m\n\u001b[0;32m     17\u001b[0m                 \u001b[0mprint\u001b[0m\u001b[1;33m(\u001b[0m\u001b[1;34m\"Enter Maths marks between 0 and 100\"\u001b[0m\u001b[1;33m)\u001b[0m\u001b[1;33m\u001b[0m\u001b[1;33m\u001b[0m\u001b[0m\n\u001b[0;32m     18\u001b[0m             \u001b[1;32melse\u001b[0m\u001b[1;33m:\u001b[0m\u001b[1;33m\u001b[0m\u001b[1;33m\u001b[0m\u001b[0m\n\u001b[1;32m---> 19\u001b[1;33m                 \u001b[1;32mif\u001b[0m \u001b[0mPhy\u001b[0m \u001b[1;33m>\u001b[0m \u001b[1;36m100\u001b[0m \u001b[1;32mor\u001b[0m \u001b[0mPhy\u001b[0m \u001b[1;33m<\u001b[0m \u001b[1;36m0\u001b[0m\u001b[1;33m:\u001b[0m\u001b[1;33m\u001b[0m\u001b[1;33m\u001b[0m\u001b[0m\n\u001b[0m\u001b[0;32m     20\u001b[0m                     \u001b[0mprint\u001b[0m\u001b[1;33m(\u001b[0m\u001b[1;34m\"Enter Physics marks between 0 and 100\"\u001b[0m\u001b[1;33m)\u001b[0m\u001b[1;33m\u001b[0m\u001b[1;33m\u001b[0m\u001b[0m\n\u001b[0;32m     21\u001b[0m                 \u001b[1;32melse\u001b[0m\u001b[1;33m:\u001b[0m\u001b[1;33m\u001b[0m\u001b[1;33m\u001b[0m\u001b[0m\n",
      "\u001b[1;31mTypeError\u001b[0m: '>' not supported between instances of 'str' and 'int'"
     ]
    }
   ],
   "source": [
    "Eng = int(input(\"Enter Your English Marks: \"))\n",
    "Isl = int(input(\"Enter Your Islamiat Marks: \"))\n",
    "Urd = int(input(\"Enter Your Urdu Marks: \"))\n",
    "Mth = int(input(\"Enter Your Maths Marks: \"))\n",
    "Phy = int(input(\"Enter Your Physics Marks: \")\n",
    "Chem = input(\"Enter Your Chemistry Marks: \")\n",
    "if Eng > 100 or Eng < 0:\n",
    "    print(\"Enter English marks between 0 and 100\")\n",
    "else:    \n",
    "    if Isl > 100 or Isl < 0:\n",
    "        print(\"Enter Islamiat marks between 0 and 100\")\n",
    "    else:    \n",
    "        if Urd > 100 or Urd < 0:\n",
    "            print(\"Enter Urdu marks between 0 and 100\")\n",
    "        else:\n",
    "            if Mth > 100 or Mth < 0:\n",
    "                print(\"Enter Maths marks between 0 and 100\")\n",
    "            else:\n",
    "                if Phy > 100 or Phy < 0:\n",
    "                    print(\"Enter Physics marks between 0 and 100\")\n",
    "                else:\n",
    "                    if Chem > 100 or Chem < 0:\n",
    "                        print(\"Enter Maths marks between 0 and 100\")\n",
    "                    else:\n",
    "                        T = Eng + Isl + Urd + Mth + Phy + Chem \n",
    "                        print(\"Your Total marks are\",T,\"out of 600\")\n",
    "                        P = (T / 600) * 100\n",
    "                        print(\"Your Percentage is\",P)\n",
    "            \n",
    "if P >= 80 and P <= 100:\n",
    "    print(\"Your Grade is A+\")\n",
    "if P >= 70 and P < 80:\n",
    "    print(\"Your Grade is A\")\n",
    "if P >= 60 and P < 70:\n",
    "    print(\"Your Grade is B\")\n",
    "if P >= 50 and P < 60:\n",
    "    print(\"Your Grade is C\")\n",
    "if P >= 40 and P < 50:\n",
    "    print(\"Your Grade is D\")\n",
    "if P >= 33 and P < 40:\n",
    "    print(\"Your Grade is E\")\n",
    "if P <33:\n",
    "    print(\"FAILS\")"
   ]
  },
  {
   "cell_type": "code",
   "execution_count": null,
   "id": "6576cade",
   "metadata": {},
   "outputs": [],
   "source": []
  },
  {
   "cell_type": "code",
   "execution_count": null,
   "id": "a32f8a12",
   "metadata": {},
   "outputs": [],
   "source": []
  }
 ],
 "metadata": {
  "kernelspec": {
   "display_name": "Python 3",
   "language": "python",
   "name": "python3"
  },
  "language_info": {
   "codemirror_mode": {
    "name": "ipython",
    "version": 3
   },
   "file_extension": ".py",
   "mimetype": "text/x-python",
   "name": "python",
   "nbconvert_exporter": "python",
   "pygments_lexer": "ipython3",
   "version": "3.8.8"
  }
 },
 "nbformat": 4,
 "nbformat_minor": 5
}
