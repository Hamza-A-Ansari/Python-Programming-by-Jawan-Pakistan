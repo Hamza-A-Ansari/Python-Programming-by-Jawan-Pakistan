{
 "cells": [
  {
   "cell_type": "code",
   "execution_count": 1,
   "id": "0c587738",
   "metadata": {},
   "outputs": [
    {
     "name": "stdout",
     "output_type": "stream",
     "text": [
      "{1: 'a', 2: 'b', 3: 'c', 4: 'd'}\n"
     ]
    }
   ],
   "source": [
    "# To add a key and value \n",
    "a = {1:'a',2:'b',3:'c'}\n",
    "a[4] = 'd'\n",
    "print(a)\n",
    "#To update \n",
    "#a[3] = 'y'"
   ]
  },
  {
   "cell_type": "code",
   "execution_count": 6,
   "id": "888656a3",
   "metadata": {},
   "outputs": [
    {
     "name": "stdout",
     "output_type": "stream",
     "text": [
      "1 a\n",
      "2 b\n",
      "3 c\n"
     ]
    }
   ],
   "source": [
    "a = {1:'a',2:'b',3:'c'}\n",
    "for key,value in a.items():\n",
    "    print (key,value)"
   ]
  },
  {
   "cell_type": "code",
   "execution_count": 9,
   "id": "fcbe2596",
   "metadata": {},
   "outputs": [
    {
     "name": "stdout",
     "output_type": "stream",
     "text": [
      "Key not found\n"
     ]
    }
   ],
   "source": [
    "#Not to get error \n",
    "a = {1:'a',2:'b',3:'c'}\n",
    "print(a.get(5,\"Key not found\"))"
   ]
  },
  {
   "cell_type": "code",
   "execution_count": 17,
   "id": "cc38c3c9",
   "metadata": {},
   "outputs": [
    {
     "name": "stdout",
     "output_type": "stream",
     "text": [
      "3\n"
     ]
    }
   ],
   "source": [
    "a = {1:'a',2:'b',3:'c',4:['a',1,'b',3]}\n",
    "print(a[4][3])"
   ]
  },
  {
   "cell_type": "code",
   "execution_count": 18,
   "id": "089e3e0d",
   "metadata": {},
   "outputs": [
    {
     "name": "stdout",
     "output_type": "stream",
     "text": [
      "Enter a value=f\n"
     ]
    },
    {
     "data": {
      "text/plain": [
       "{1: 'a', 2: 'b', 3: 'c', 4: ['a', 1, 'b', 3, 'f']}"
      ]
     },
     "execution_count": 18,
     "metadata": {},
     "output_type": "execute_result"
    }
   ],
   "source": [
    "#In order to add an element in list which is in dict\n",
    "a = {1:'a',2:'b',3:'c',4:['a',1,'b',3]}\n",
    "inp = input(\"Enter a value=\")\n",
    "a[4].append(inp)\n",
    "a"
   ]
  },
  {
   "cell_type": "code",
   "execution_count": 25,
   "id": "8812784a",
   "metadata": {},
   "outputs": [
    {
     "name": "stdout",
     "output_type": "stream",
     "text": [
      "{1: 'a', 2: 'b', 3: 'c'}\n"
     ]
    }
   ],
   "source": [
    "#pop is used to return and delete an item in a dict\n",
    "#clear is used to clear all elements in a dict\n",
    "#del is used to delete a dict\n",
    "a = {1:'a',2:'b',3:'c'}\n",
    "#print(a.pop(2))\n",
    "#a.clear()\n",
    "#del a\n",
    "print(a)"
   ]
  },
  {
   "cell_type": "code",
   "execution_count": 26,
   "id": "e10451f0",
   "metadata": {},
   "outputs": [
    {
     "name": "stdout",
     "output_type": "stream",
     "text": [
      "{2: 'b', 3: 'c'}\n"
     ]
    }
   ],
   "source": [
    "a = {1:'a',2:'b',3:'c'}\n",
    "b=[]\n",
    "b.append(a.pop(1))\n",
    "print(a)"
   ]
  },
  {
   "cell_type": "code",
   "execution_count": 27,
   "id": "ef10b039",
   "metadata": {},
   "outputs": [
    {
     "data": {
      "text/plain": [
       "(3, 'c')"
      ]
     },
     "execution_count": 27,
     "metadata": {},
     "output_type": "execute_result"
    }
   ],
   "source": [
    "#pop item is used to delete last item of a dict\n",
    "a = {1:'a',2:'b',3:'c'}\n",
    "a.popitem()"
   ]
  },
  {
   "cell_type": "code",
   "execution_count": 31,
   "id": "43ab4513",
   "metadata": {},
   "outputs": [
    {
     "name": "stdout",
     "output_type": "stream",
     "text": [
      "b\n"
     ]
    }
   ],
   "source": [
    "a = {1:'a',2:'b',3:'c',4:['a',1,'b',3]}\n",
    "print(a[4].pop(2))"
   ]
  },
  {
   "cell_type": "code",
   "execution_count": 35,
   "id": "911c2846",
   "metadata": {},
   "outputs": [
    {
     "name": "stdout",
     "output_type": "stream",
     "text": [
      "f\n"
     ]
    }
   ],
   "source": [
    "#Nested dict\n",
    "a = {1:'a',2:'b',3:'c',4:['a',1,'b',3],5:{6:'e',7:'f',8:'g'}}\n",
    "print(a[5][7])"
   ]
  },
  {
   "cell_type": "markdown",
   "id": "d0c2ac7d",
   "metadata": {},
   "source": [
    "# Functions\n"
   ]
  },
  {
   "cell_type": "code",
   "execution_count": 36,
   "id": "ccbc404b",
   "metadata": {},
   "outputs": [
    {
     "name": "stdout",
     "output_type": "stream",
     "text": [
      "7\n"
     ]
    }
   ],
   "source": [
    "#Suppose\n",
    "a=3\n",
    "b=4\n",
    "c=a+b\n",
    "print(c)"
   ]
  },
  {
   "cell_type": "code",
   "execution_count": 44,
   "id": "4db44b00",
   "metadata": {},
   "outputs": [
    {
     "name": "stdout",
     "output_type": "stream",
     "text": [
      "7\n"
     ]
    }
   ],
   "source": [
    "#Function starts with \"def\" means define function\n",
    "def sum(a,b):\n",
    "    c=a+b\n",
    "    print(c)\n",
    "    \n",
    "sum(3,4)    "
   ]
  },
  {
   "cell_type": "code",
   "execution_count": 46,
   "id": "72fb31f0",
   "metadata": {},
   "outputs": [
    {
     "name": "stdout",
     "output_type": "stream",
     "text": [
      "14\n"
     ]
    }
   ],
   "source": [
    "def sum(a,b):\n",
    "    return a+b\n",
    "c = sum(5,9)\n",
    "print(c)"
   ]
  },
  {
   "cell_type": "code",
   "execution_count": 50,
   "id": "0dfb211a",
   "metadata": {},
   "outputs": [
    {
     "name": "stdout",
     "output_type": "stream",
     "text": [
      "5\n"
     ]
    }
   ],
   "source": [
    "#Globle variable is defined outside the function\n",
    "#local variable is defined inside the function\n",
    "#If we print a variable outsude the function it prints globle variable because it has higher priorty\n",
    "c=5\n",
    "def sum(a,b):\n",
    "    c=a+b\n",
    "sum(4,7)    \n",
    "print(c)    "
   ]
  },
  {
   "cell_type": "code",
   "execution_count": null,
   "id": "23a361c3",
   "metadata": {},
   "outputs": [],
   "source": [
    "dataset = csv.read()"
   ]
  },
  {
   "cell_type": "code",
   "execution_count": null,
   "id": "ea4cf623",
   "metadata": {},
   "outputs": [],
   "source": []
  }
 ],
 "metadata": {
  "kernelspec": {
   "display_name": "Python 3",
   "language": "python",
   "name": "python3"
  },
  "language_info": {
   "codemirror_mode": {
    "name": "ipython",
    "version": 3
   },
   "file_extension": ".py",
   "mimetype": "text/x-python",
   "name": "python",
   "nbconvert_exporter": "python",
   "pygments_lexer": "ipython3",
   "version": "3.8.8"
  }
 },
 "nbformat": 4,
 "nbformat_minor": 5
}
