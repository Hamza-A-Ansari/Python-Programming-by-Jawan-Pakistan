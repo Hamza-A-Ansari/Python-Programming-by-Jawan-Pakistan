{
 "cells": [
  {
   "cell_type": "code",
   "execution_count": 1,
   "id": "a472865b",
   "metadata": {},
   "outputs": [
    {
     "data": {
      "text/plain": [
       "['h', 'u', 'm', 'a', 'n']"
      ]
     },
     "execution_count": 1,
     "metadata": {},
     "output_type": "execute_result"
    }
   ],
   "source": [
    "h = []\n",
    "for i in \"human\":\n",
    "    h.append(i)\n",
    "h    "
   ]
  },
  {
   "cell_type": "code",
   "execution_count": 2,
   "id": "87bdd270",
   "metadata": {},
   "outputs": [
    {
     "data": {
      "text/plain": [
       "['h', 'u', 'm', 'a', 'n']"
      ]
     },
     "execution_count": 2,
     "metadata": {},
     "output_type": "execute_result"
    }
   ],
   "source": [
    "h = [letter for letter in \"human\"]\n",
    "h"
   ]
  },
  {
   "cell_type": "code",
   "execution_count": 4,
   "id": "698f7669",
   "metadata": {},
   "outputs": [
    {
     "data": {
      "text/plain": [
       "[2, 4, 6, 8, 10, 12, 14, 16, 18, 20]"
      ]
     },
     "execution_count": 4,
     "metadata": {},
     "output_type": "execute_result"
    }
   ],
   "source": [
    "h=[x*2 for x in range (1,11)]\n",
    "h"
   ]
  },
  {
   "cell_type": "code",
   "execution_count": 5,
   "id": "f37329fc",
   "metadata": {},
   "outputs": [
    {
     "data": {
      "text/plain": [
       "[2, 4, 6, 8, 10, 12, 14, 16, 18, 20]"
      ]
     },
     "execution_count": 5,
     "metadata": {},
     "output_type": "execute_result"
    }
   ],
   "source": [
    "h=[x for x in range (1,21) if x%2==0]\n",
    "h"
   ]
  },
  {
   "cell_type": "code",
   "execution_count": 6,
   "id": "8f620e9c",
   "metadata": {},
   "outputs": [
    {
     "name": "stdout",
     "output_type": "stream",
     "text": [
      "Enter a number= 5\n"
     ]
    },
    {
     "data": {
      "text/plain": [
       "[5, 10, 15, 20, 25, 30, 35, 40, 45, 50]"
      ]
     },
     "execution_count": 6,
     "metadata": {},
     "output_type": "execute_result"
    }
   ],
   "source": [
    "x=int(input(\"Enter a number= \"))\n",
    "h = [x*i for i in range (1,11)]\n",
    "h"
   ]
  },
  {
   "cell_type": "code",
   "execution_count": 8,
   "id": "e5ad3829",
   "metadata": {},
   "outputs": [
    {
     "data": {
      "text/plain": [
       "[[1, 5], [2, 6], [3, 7], [4, 8]]"
      ]
     },
     "execution_count": 8,
     "metadata": {},
     "output_type": "execute_result"
    }
   ],
   "source": [
    "m = [[1,2,3,4],[5,6,7,8]]\n",
    "transpose=[]\n",
    "for i in range(len(m[0])):\n",
    "    row = []\n",
    "    for j in m:\n",
    "        row.append(j[i])\n",
    "    transpose.append(row)\n",
    "transpose    "
   ]
  },
  {
   "cell_type": "code",
   "execution_count": 11,
   "id": "b2b85d11",
   "metadata": {},
   "outputs": [
    {
     "ename": "NameError",
     "evalue": "name 'matrix' is not defined",
     "output_type": "error",
     "traceback": [
      "\u001b[1;31m---------------------------------------------------------------------------\u001b[0m",
      "\u001b[1;31mNameError\u001b[0m                                 Traceback (most recent call last)",
      "\u001b[1;32m<ipython-input-11-435f43c5ae51>\u001b[0m in \u001b[0;36m<module>\u001b[1;34m\u001b[0m\n\u001b[1;32m----> 1\u001b[1;33m \u001b[0mtranspose\u001b[0m\u001b[1;33m=\u001b[0m\u001b[1;33m[\u001b[0m\u001b[1;33m[\u001b[0m\u001b[0mrow\u001b[0m\u001b[1;33m[\u001b[0m\u001b[0mi\u001b[0m\u001b[1;33m]\u001b[0m \u001b[1;32mfor\u001b[0m \u001b[0mrow\u001b[0m \u001b[1;32min\u001b[0m \u001b[0mmatrix\u001b[0m\u001b[1;33m]\u001b[0m \u001b[1;32mfor\u001b[0m \u001b[0mi\u001b[0m \u001b[1;32min\u001b[0m \u001b[0mrange\u001b[0m\u001b[1;33m(\u001b[0m\u001b[0mlen\u001b[0m\u001b[1;33m(\u001b[0m\u001b[0mmatrix\u001b[0m\u001b[1;33m[\u001b[0m\u001b[1;36m0\u001b[0m\u001b[1;33m]\u001b[0m\u001b[1;33m)\u001b[0m\u001b[1;33m)\u001b[0m\u001b[1;33m]\u001b[0m\u001b[1;33m\u001b[0m\u001b[1;33m\u001b[0m\u001b[0m\n\u001b[0m\u001b[0;32m      2\u001b[0m \u001b[0mtranspose\u001b[0m\u001b[1;33m\u001b[0m\u001b[1;33m\u001b[0m\u001b[0m\n",
      "\u001b[1;31mNameError\u001b[0m: name 'matrix' is not defined"
     ]
    }
   ],
   "source": [
    "transpose=[[row[i] for row in matrix] for i in range(len(matrix[0]))]\n",
    "transpose"
   ]
  },
  {
   "cell_type": "code",
   "execution_count": 19,
   "id": "2d799fb0",
   "metadata": {},
   "outputs": [
    {
     "name": "stdout",
     "output_type": "stream",
     "text": [
      "1\n",
      "3\n",
      "5\n",
      "7\n",
      "9\n"
     ]
    }
   ],
   "source": [
    "for i in range (1,11):\n",
    "    if i%2 == 1:\n",
    "        print(i)"
   ]
  },
  {
   "cell_type": "code",
   "execution_count": 25,
   "id": "1fbef731",
   "metadata": {},
   "outputs": [
    {
     "name": "stdout",
     "output_type": "stream",
     "text": [
      "{1: 'a', 2: 'b', 3: 'c'}\n"
     ]
    }
   ],
   "source": [
    "# 2nd way to represent a dict\n",
    "a = dict([(1,'a'),(2,'b'),(3,'c')])\n",
    "print(a)"
   ]
  },
  {
   "cell_type": "code",
   "execution_count": 28,
   "id": "486c3e47",
   "metadata": {},
   "outputs": [
    {
     "data": {
      "text/plain": [
       "['apple', 'bananas', 'orange']"
      ]
     },
     "execution_count": 28,
     "metadata": {},
     "output_type": "execute_result"
    }
   ],
   "source": [
    "a={\n",
    "    'a':[\"apple\",\"bananas\",\"orange\"],\n",
    "    'b':[\"onion\",\"potato\",\"carrot\"],\n",
    "    'c':\"car\",\n",
    "    'd':\"bike\"\n",
    "}\n",
    "a['a']"
   ]
  },
  {
   "cell_type": "code",
   "execution_count": 31,
   "id": "e1e6a09d",
   "metadata": {},
   "outputs": [
    {
     "data": {
      "text/plain": [
       "'Not found'"
      ]
     },
     "execution_count": 31,
     "metadata": {},
     "output_type": "execute_result"
    }
   ],
   "source": [
    "#If variable is not in the dict then error does not error\n",
    "a={\n",
    "    'a':[\"apple\",\"bananas\",\"orange\"],\n",
    "    'b':[\"onion\",\"potato\",\"carrot\"],\n",
    "    'c':\"car\",\n",
    "    'd':\"bike\"\n",
    "}\n",
    "a.get('f',\"Not found\")\n"
   ]
  },
  {
   "cell_type": "code",
   "execution_count": 32,
   "id": "17808fd8",
   "metadata": {},
   "outputs": [
    {
     "name": "stdout",
     "output_type": "stream",
     "text": [
      "['apple', 'bananas', 'orange']\n",
      "['onion', 'potato', 'carrot']\n",
      "car\n",
      "bike\n"
     ]
    }
   ],
   "source": [
    "a={\n",
    "    'a':[\"apple\",\"bananas\",\"orange\"],\n",
    "    'b':[\"onion\",\"potato\",\"carrot\"],\n",
    "    'c':\"car\",\n",
    "    'd':\"bike\"\n",
    "}\n",
    "for i in a.values():\n",
    "    print(i)\n"
   ]
  },
  {
   "cell_type": "code",
   "execution_count": 33,
   "id": "b964d331",
   "metadata": {},
   "outputs": [
    {
     "name": "stdout",
     "output_type": "stream",
     "text": [
      "a ['apple', 'bananas', 'orange']\n",
      "b ['onion', 'potato', 'carrot']\n",
      "c car\n",
      "d bike\n"
     ]
    }
   ],
   "source": [
    "a={\n",
    "    'a':[\"apple\",\"bananas\",\"orange\"],\n",
    "    'b':[\"onion\",\"potato\",\"carrot\"],\n",
    "    'c':\"car\",\n",
    "    'd':\"bike\"\n",
    "}\n",
    "for a,b in a.items():\n",
    "    print(a,b)"
   ]
  },
  {
   "cell_type": "code",
   "execution_count": 35,
   "id": "8828b69a",
   "metadata": {},
   "outputs": [
    {
     "data": {
      "text/plain": [
       "{1: 'a', 2: 'b', 3: 'c', 4: 'd'}"
      ]
     },
     "execution_count": 35,
     "metadata": {},
     "output_type": "execute_result"
    }
   ],
   "source": [
    "#1st method\n",
    "list1=[1,2,3,4,5]\n",
    "list2=['a','b','c','d']\n",
    "mydict={}\n",
    "for key in list1:\n",
    "    for value in list2:\n",
    "        mydict[key]=value\n",
    "        list2.remove(value)\n",
    "        break\n",
    "mydict        "
   ]
  },
  {
   "cell_type": "code",
   "execution_count": 38,
   "id": "0d7b420f",
   "metadata": {},
   "outputs": [
    {
     "data": {
      "text/plain": [
       "{1: 'a', 2: 'b', 3: 'c', 4: 'd', 5: 'e'}"
      ]
     },
     "execution_count": 38,
     "metadata": {},
     "output_type": "execute_result"
    }
   ],
   "source": [
    "#2nd method \n",
    "list1=[1,2,3,4,5]\n",
    "list2=['a','b','c','d','e']\n",
    "mydict={}\n",
    "mydict=dict(zip(list1,list2))\n",
    "mydict"
   ]
  },
  {
   "cell_type": "code",
   "execution_count": null,
   "id": "da1041ca",
   "metadata": {},
   "outputs": [],
   "source": []
  },
  {
   "cell_type": "code",
   "execution_count": null,
   "id": "0bad6a0b",
   "metadata": {},
   "outputs": [],
   "source": []
  },
  {
   "cell_type": "code",
   "execution_count": null,
   "id": "f9af90ec",
   "metadata": {},
   "outputs": [],
   "source": []
  }
 ],
 "metadata": {
  "kernelspec": {
   "display_name": "Python 3",
   "language": "python",
   "name": "python3"
  },
  "language_info": {
   "codemirror_mode": {
    "name": "ipython",
    "version": 3
   },
   "file_extension": ".py",
   "mimetype": "text/x-python",
   "name": "python",
   "nbconvert_exporter": "python",
   "pygments_lexer": "ipython3",
   "version": "3.8.8"
  }
 },
 "nbformat": 4,
 "nbformat_minor": 5
}
